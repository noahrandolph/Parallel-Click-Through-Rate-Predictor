{
 "cells": [
  {
   "cell_type": "code",
   "execution_count": 1,
   "metadata": {},
   "outputs": [],
   "source": [
    "import re\n",
    "import ast\n",
    "import time\n",
    "import numpy as np\n",
    "import pandas as pd\n",
    "import seaborn as sns\n",
    "import networkx as nx\n",
    "import matplotlib.pyplot as plt"
   ]
  },
  {
   "cell_type": "code",
   "execution_count": 3,
   "metadata": {},
   "outputs": [],
   "source": [
    "# start Spark Session\n",
    "from pyspark.sql import SparkSession\n",
    "app_name = \"FinalProject_notebook\"\n",
    "master = \"local[*]\"\n",
    "spark = SparkSession\\\n",
    "        .builder\\\n",
    "        .appName(app_name)\\\n",
    "        .master(master)\\\n",
    "        .getOrCreate()\n",
    "sc = spark.sparkContext"
   ]
  },
  {
   "cell_type": "code",
   "execution_count": 6,
   "metadata": {},
   "outputs": [],
   "source": [
    "# Reads the huge train.txt file and creates the .0005 sample.\n",
    "\n",
    "#df = spark.read.csv('train.txt',sep='\\t')\n",
    "#df_0005 = df.sample(.0005,seed=2615).write.csv('train_0005.txt',sep='\\t')"
   ]
  },
  {
   "cell_type": "code",
   "execution_count": 23,
   "metadata": {},
   "outputs": [],
   "source": []
  },
  {
   "cell_type": "code",
   "execution_count": 65,
   "metadata": {},
   "outputs": [],
   "source": [
    "# create dataframe from train_0005.tsv\n",
    "df_0005 = spark.read.csv('train_0005.txt',sep='\\t')"
   ]
  },
  {
   "cell_type": "code",
   "execution_count": 73,
   "metadata": {},
   "outputs": [
    {
     "data": {
      "text/plain": [
       "[Row(Label='0', I0='0', I1='1', I2='10', I3='2', I4='4851', I5='139', I6='7', I7='2', I8='53', I9='0', I10='1', I11=None, I12='2', C0='05db9164', C1='403ea497', C2='2cbec47f', C3='3e2bfbda', C4='25c83c98', C5=None, C6='866e2a5e', C7='5b392875', C8='a73ee510', C9='3b08e48b', C10='a15790a3', C11='21a23bfe', C12='a0abbb5b', C13='07d13a8f', C14='e3209fc2', C15='587267a3', C16='d4bb7bd8', C17='a78bd508', C18='21ddcdc9', C19='5840adea', C20='c2a93b37', C21=None, C22='3a171ecb', C23='1793a828', C24='e8b83407', C25='2fede552'),\n",
       " Row(Label='0', I0='0', I1='93', I2='21', I3='21', I4='2387', I5='73', I6='7', I7='24', I8='174', I9='0', I10='6', I11=None, I12='21', C0='05db9164', C1='421b43cd', C2='e8c51b7b', C3='29998ed1', C4='25c83c98', C5='fe6b92e5', C6='dc7659bd', C7='0b153874', C8='a73ee510', C9='fed0f64c', C10='e51ddf94', C11='6aaba33c', C12='3516f6e6', C13='b28479f6', C14='e1ac77f7', C15='b041b04a', C16='e5ba7672', C17='2804effd', C18=None, C19=None, C20='723b4dfd', C21=None, C22='3a171ecb', C23='b34f3128', C24=None, C25=None),\n",
       " Row(Label='1', I0='0', I1='11', I2='5', I3='26', I4='2907', I5='383', I6='3', I7='33', I8='163', I9='0', I10='2', I11=None, I12='28', C0='be589b51', C1='0a519c5c', C2='ad4b77ff', C3='d16679b9', C4='25c83c98', C5='7e0ccccf', C6='4660f8df', C7='5b392875', C8='a73ee510', C9='3044b0a2', C10='3d1fed94', C11='a2f4e8b5', C12='9619e9ff', C13='07d13a8f', C14='5a7d5bd8', C15='89052618', C16='07c540c4', C17='eea3ab97', C18=None, C19=None, C20='d4703ebd', C21='ad3062eb', C22='55dd3565', C23='aee52b6f', C24=None, C25=None),\n",
       " Row(Label='0', I0=None, I1='0', I2='91', I3=None, I4='11148', I5=None, I6='0', I7='0', I8='57', I9=None, I10='0', I11=None, I12=None, C0='5a9ed9b0', C1='287130e0', C2='3047c8a3', C3='465bccda', C4='25c83c98', C5='7e0ccccf', C6='8435dd30', C7='0b153874', C8='a73ee510', C9='3b08e48b', C10='20fda8c8', C11='3488b8e7', C12='c1448b70', C13='1adce6ef', C14='310d155b', C15='7c8fe717', C16='776ce399', C17='891589e7', C18='9653bb65', C19='b1252a9d', C20='49de4858', C21=None, C22='32c7478e', C23='48e5dd8c', C24='e8b83407', C25='76bedbed'),\n",
       " Row(Label='1', I0='1', I1='22', I2='13', I3='7', I4='10', I5='7', I6='1', I7='6', I8='7', I9='1', I10='1', I11=None, I12='7', C0='05db9164', C1='d833535f', C2='b00d1501', C3='d16679b9', C4='4cf72387', C5='fe6b92e5', C6='6edd3a80', C7='0b153874', C8='a73ee510', C9='ab9456b4', C10='bfd9d6e5', C11='e0d76380', C12='e1b62f8f', C13='b28479f6', C14='a66dcf27', C15='1203a270', C16='d4bb7bd8', C17='7b49e3d2', C18=None, C19=None, C20='73d06dde', C21=None, C22='be7c41b4', C23='aee52b6f', C24=None, C25=None),\n",
       " Row(Label='0', I0=None, I1='1', I2='9', I3='22', I4='5732', I5=None, I6=None, I7='42', I8=None, I9=None, I10=None, I11=None, I12='22', C0='39af2607', C1='d833535f', C2='51a1ba8e', C3='499ac831', C4='25c83c98', C5='7e0ccccf', C6='e04cfe2a', C7='0b153874', C8='a73ee510', C9='f577a20b', C10='ba9925b0', C11='34645d5b', C12='a8374791', C13='b28479f6', C14='a66dcf27', C15='6a841a1b', C16='1e88c74f', C17='7b49e3d2', C18=None, C19=None, C20='9cfdbc70', C21=None, C22='32c7478e', C23='aee52b6f', C24=None, C25=None),\n",
       " Row(Label='1', I0='12', I1='25', I2='58', I3='8', I4='11', I5='7', I6='164', I7='20', I8='393', I9='1', I10='11', I11='0', I12='7', C0='be589b51', C1='e5fb1af3', C2='2dace74d', C3='3fe615db', C4='25c83c98', C5='7e0ccccf', C6='24c48926', C7='0b153874', C8='a73ee510', C9='4b8a7639', C10='9f0003f4', C11='37abf5d3', C12='5afd9e51', C13='b28479f6', C14='23287566', C15='1b67c400', C16='e5ba7672', C17='13145934', C18='efa3470f', C19='b1252a9d', C20='3907af57', C21=None, C22='32c7478e', C23='3fdb382b', C24='3a6f6b59', C25='49d68486'),\n",
       " Row(Label='0', I0=None, I1='109', I2=None, I3=None, I4=None, I5=None, I6=None, I7='18', I8=None, I9=None, I10=None, I11=None, I12=None, C0='87552397', C1='90081f33', C2='3ea14bc6', C3='207bee28', C4='4cf72387', C5='7e0ccccf', C6='af0809a5', C7='0b153874', C8='7cc72ec2', C9='3b08e48b', C10='9e12e146', C11='c3d99061', C12='025225f2', C13='b28479f6', C14='68bcec11', C15='8f0ba7b4', C16='2005abd1', C17='ef981aa1', C18=None, C19=None, C20='8d7886e8', C21=None, C22='be7c41b4', C23='cd7bf52a', C24=None, C25=None),\n",
       " Row(Label='1', I0='4', I1='0', I2=None, I3='10', I4='172', I5='14', I6='4', I7='15', I8='14', I9='2', I10='2', I11=None, I12='14', C0='41edac3d', C1='5b7b33dc', C2=None, C3=None, C4='25c83c98', C5='7e0ccccf', C6='95bb412b', C7='5b392875', C8='a73ee510', C9='4cd9b343', C10='ec2b795a', C11=None, C12='a5975b1d', C13='1adce6ef', C14='7610b7f3', C15=None, C16='e5ba7672', C17='3cbc29b4', C18=None, C19=None, C20=None, C21=None, C22='423fab69', C23=None, C24=None, C25=None),\n",
       " Row(Label='0', I0=None, I1='0', I2='2', I3='1', I4='16092', I5='55', I6='6', I7='2', I8='49', I9=None, I10='1', I11=None, I12='1', C0='e6051457', C1='0468d672', C2='90ca4cfa', C3='1c043569', C4='25c83c98', C5='7e0ccccf', C6='d3d2b34a', C7='0b153874', C8='a73ee510', C9='59676bc2', C10='f40d1e68', C11='b4a695f6', C12='6cb5243a', C13='07d13a8f', C14='7da7b9b2', C15='abc175db', C16='e5ba7672', C17='124c6b00', C18='21ddcdc9', C19='5840adea', C20='84305f8f', C21=None, C22='32c7478e', C23='1481ceb4', C24='ea9a246c', C25='984e0db0'),\n",
       " Row(Label='0', I0=None, I1='3', I2=None, I3=None, I4='17399', I5=None, I6=None, I7='5', I8=None, I9=None, I10=None, I11=None, I12=None, C0='05db9164', C1='d833535f', C2='77f2f2e5', C3='d16679b9', C4='384874ce', C5='7e0ccccf', C6='883cecab', C7='a674580f', C8='a73ee510', C9='e38cbfac', C10='f7862358', C11='9f32b866', C12='5aae435a', C13='07d13a8f', C14='2e7bc615', C15='31ca40b6', C16='1e88c74f', C17='7b49e3d2', C18=None, C19=None, C20='dfcfc3fa', C21=None, C22='3a171ecb', C23='aee52b6f', C24=None, C25=None),\n",
       " Row(Label='1', I0='2', I1='273', I2='9', I3='9', I4='537', I5='14', I6='9', I7='33', I8='116', I9='1', I10='2', I11='0', I12='9', C0='5a9ed9b0', C1='287130e0', C2='67e49c90', C3='cdbf4896', C4='25c83c98', C5='fe6b92e5', C6='ce4f7f55', C7='0b153874', C8='a73ee510', C9='7c621383', C10='38f692a7', C11='0a04ed34', C12='6e5da64f', C13='b28479f6', C14='9efd8b77', C15='ea275b22', C16='e5ba7672', C17='891589e7', C18='5b885066', C19='b1252a9d', C20='8b8715e1', C21='ad3062eb', C22='32c7478e', C23='0f3002b4', C24='e8b83407', C25='c6468596'),\n",
       " Row(Label='0', I0='1', I1='81', I2='2', I3='1', I4='429', I5='1', I6='1', I7='1', I8='1', I9='1', I10='1', I11=None, I12='1', C0='05db9164', C1='f9875f50', C2='02391f51', C3='b9c629a9', C4='25c83c98', C5='fe6b92e5', C6='5aa59340', C7='0b153874', C8='a73ee510', C9='3b08e48b', C10='e649e0c1', C11='2397259a', C12='3bcc4b70', C13='07d13a8f', C14='4ad96776', C15='d37efe8c', C16='d4bb7bd8', C17='43a9e4b1', C18='21ddcdc9', C19='5840adea', C20='b6119319', C21='c9d4222a', C22='93bad2c0', C23='45ab94c8', C24='e8b83407', C25='b13f4ade'),\n",
       " Row(Label='0', I0='3', I1='0', I2='35', I3='4', I4='414', I5='9', I6='3', I7='6', I8='5', I9='1', I10='1', I11=None, I12='5', C0='c89db133', C1='f0cf0024', C2='5d3a12c5', C3='ee36060f', C4='25c83c98', C5='fbad5c96', C6='e3082cb7', C7='0b153874', C8='a73ee510', C9='70564a33', C10='2cad6d17', C11='03afd96d', C12='f9cef5cc', C13='8ceecbc8', C14='2cff2cc9', C15='fab4dda8', C16='e5ba7672', C17='88b0e440', C18='21ddcdc9', C19='5840adea', C20='f6e47def', C21=None, C22='32c7478e', C23='6c1cdd05', C24='ea9a246c', C25='c5116a1c'),\n",
       " Row(Label='0', I0=None, I1='1', I2='9', I3='9', I4='6143', I5=None, I6='0', I7='30', I8='39', I9=None, I10='0', I11=None, I12='9', C0='8cf07265', C1='0a519c5c', C2='ad4b77ff', C3='d16679b9', C4='4cf72387', C5='7e0ccccf', C6='f258c0eb', C7='5b392875', C8='a73ee510', C9='3b08e48b', C10='c012107d', C11='a2f4e8b5', C12='c8dca410', C13='1adce6ef', C14='1c4aefab', C15='89052618', C16='776ce399', C17='eea3ab97', C18=None, C19=None, C20='d4703ebd', C21=None, C22='be7c41b4', C23='aee52b6f', C24=None, C25=None),\n",
       " Row(Label='0', I0='0', I1='1', I2='4', I3=None, I4='2829', I5='50', I6='8', I7='34', I8='108', I9='0', I10='3', I11='0', I12=None, C0='05db9164', C1='8ab240be', C2='622d2ce8', C3='51c64c6d', C4='43b19349', C5=None, C6='b0e3882e', C7='5b392875', C8='a73ee510', C9='d359b9cd', C10='f37be5c0', C11='e9521d94', C12='a59ea816', C13='1adce6ef', C14='28883800', C15='ab8b968d', C16='e5ba7672', C17='ca533012', C18='21ddcdc9', C19='5840adea', C20='ee4fa92e', C21=None, C22='55dd3565', C23='d61a7d0a', C24='445bbe3b', C25='b29c74dc'),\n",
       " Row(Label='0', I0='0', I1='0', I2='1', I3=None, I4='1772', I5='53', I6='3', I7='0', I8='53', I9='0', I10='1', I11=None, I12=None, C0='05db9164', C1='89ddfee8', C2='27a0facc', C3='64800729', C4='25c83c98', C5='7e0ccccf', C6='2c7bd1f3', C7='c8ddd494', C8='a73ee510', C9='8228dde1', C10='e51bf5bd', C11='bd0cbc2e', C12='84620f02', C13='1adce6ef', C14='34cce7d2', C15='e89e4681', C16='07c540c4', C17='5bb2ec8e', C18='1d474f25', C19='b1252a9d', C20='0053d381', C21=None, C22='32c7478e', C23='6cbb7476', C24='f0f449dd', C25='fa9d55f3'),\n",
       " Row(Label='0', I0=None, I1='41', I2=None, I3='3', I4='25280', I5=None, I6=None, I7='28', I8=None, I9=None, I10=None, I11=None, I12='20', C0='05db9164', C1='d833535f', C2='b00d1501', C3='d16679b9', C4='4cf72387', C5='7e0ccccf', C6='6c497030', C7='0b153874', C8='a73ee510', C9='3b08e48b', C10='879087dd', C11='e0d76380', C12='de6376c3', C13='cfef1c29', C14='7e1a4d8a', C15='1203a270', C16='07c540c4', C17='281769c2', C18=None, C19=None, C20='73d06dde', C21=None, C22='32c7478e', C23='aee52b6f', C24=None, C25=None),\n",
       " Row(Label='0', I0=None, I1='2', I2='12', I3='2', I4='3036', I5='40', I6='6', I7='20', I8='29', I9=None, I10='1', I11='0', I12='2', C0='05db9164', C1='287130e0', C2='b3b7a498', C3='c1627ada', C4='384874ce', C5='7e0ccccf', C6='63b212f8', C7='0b153874', C8='a73ee510', C9='a1f25462', C10='5874c9c9', C11='1557c1ae', C12='740c210d', C13='cfef1c29', C14='655fad18', C15='7be84355', C16='e5ba7672', C17='891589e7', C18='e27c6abe', C19='a458ea53', C20='5b45d3b9', C21=None, C22='bcdee96c', C23='09ac8427', C24='ea9a246c', C25='5c1dde8a'),\n",
       " Row(Label='1', I0=None, I1='-1', I2=None, I3=None, I4='4677', I5='15', I6='62', I7='0', I8='71', I9=None, I10='8', I11='0', I12=None, C0='05db9164', C1='80e26c9b', C2='c041ee3f', C3='a19a89a7', C4='4cf72387', C5='fbad5c96', C6='71cafa85', C7='0b153874', C8='a73ee510', C9='7211daa8', C10='507605d4', C11='511e6df7', C12='5f3a0c1b', C13='07d13a8f', C14='f3635baf', C15='fd164c2b', C16='e5ba7672', C17='f54016b9', C18='21ddcdc9', C19='5840adea', C20='1b28d570', C21=None, C22='3a171ecb', C23='ba38fa19', C24='e8b83407', C25='d1d45fc5')]"
      ]
     },
     "execution_count": 73,
     "metadata": {},
     "output_type": "execute_result"
    }
   ],
   "source": [
    "# rename columns from default _c0,_c1... _c26 to ['Label','I0'..[C0]]\n",
    "# per the readme.\n",
    "# just run this one once, or reload the data first to run again\n",
    "old_col_names=df_0005.columns\n",
    "new_col_names = ['Label']+['I{}'.format(i) for i in range(0,13)]+['C{}'.format(i) for i in range(0,26)]\n",
    "for old_name,new_name in zip(old_col_names,new_col_names):\n",
    "    df_0005 = df_0005.withColumnRenamed(old_name,new_name)\n",
    "# We should probably cast the data now, didn't get this working yet\n",
    "#   df_0005 = joindf.withcolumn(new_name,joindf(new_name).cast(\"double\"))\n",
    "df_0005.head(20)"
   ]
  },
  {
   "cell_type": "code",
   "execution_count": 84,
   "metadata": {},
   "outputs": [
    {
     "name": "stdout",
     "output_type": "stream",
     "text": [
      "+-----+---+----+---+---+----+----+---+---+----+---+---+---+---+---+---+-----+----+---+---+----+---+---+----+----+-----+----+---+----+-----+---+----+---+---+-----+---+---+----+---+----+\n",
      "|Label| I0|  I1| I2| I3|  I4|  I5| I6| I7|  I8| I9|I10|I11|I12| C0| C1|   C2|  C3| C4| C5|  C6| C7| C8|  C9| C10|  C11| C12|C13| C14|  C15|C16| C17|C18|C19|  C20|C21|C22| C23|C24| C25|\n",
      "+-----+---+----+---+---+----+----+---+---+----+---+---+---+---+---+---+-----+----+---+---+----+---+---+----+----+-----+----+---+----+-----+---+----+---+---+-----+---+---+----+---+----+\n",
      "|    2| 95|1349|358| 70|9769|1030|392| 63|1042|  8| 70| 47|109|261|450|12574|8307| 86|  9|4987|142|  3|5481|2874|11739|2306| 25|3117|10366|  9|1684|770|  3|11156|  9| 14|4732| 44|3621|\n",
      "+-----+---+----+---+---+----+----+---+---+----+---+---+---+---+---+---+-----+----+---+---+----+---+---+----+----+-----+----+---+----+-----+---+----+---+---+-----+---+---+----+---+----+\n",
      "\n"
     ]
    }
   ],
   "source": [
    "from pyspark.sql.functions import countDistinct,col\n",
    "df_counts = df_0005.agg(*(countDistinct(col(c)).alias(c) for c in df_0005.columns)).show()\n",
    "df_counts.show()"
   ]
  },
  {
   "cell_type": "code",
   "execution_count": null,
   "metadata": {},
   "outputs": [],
   "source": []
  }
 ],
 "metadata": {
  "kernelspec": {
   "display_name": "Python 3",
   "language": "python",
   "name": "python3"
  },
  "language_info": {
   "codemirror_mode": {
    "name": "ipython",
    "version": 3
   },
   "file_extension": ".py",
   "mimetype": "text/x-python",
   "name": "python",
   "nbconvert_exporter": "python",
   "pygments_lexer": "ipython3",
   "version": "3.6.6"
  }
 },
 "nbformat": 4,
 "nbformat_minor": 2
}
